{
 "cells": [
  {
   "cell_type": "markdown",
   "id": "d65cc5cd",
   "metadata": {},
   "source": [
    "# OpenCV example"
   ]
  },
  {
   "cell_type": "code",
   "execution_count": null,
   "id": "6ce53e88",
   "metadata": {},
   "outputs": [],
   "source": [
    "import cv2 as cv\n",
    "import numpy as np\n",
    "from matplotlib import pyplot as plt\n",
    "import subprocess"
   ]
  },
  {
   "cell_type": "code",
   "execution_count": null,
   "id": "401a3e94",
   "metadata": {},
   "outputs": [],
   "source": [
    "def display_img(img):\n",
    "    if len(img.shape) == 3:\n",
    "        img2 = img[:,:,::-1]\n",
    "        plt.imshow(img2)\n",
    "    elif len(img.shape) == 2:\n",
    "        plt.imshow(img, cmap='gray', vmin=0, vmax=255)  \n",
    "\n",
    "def sub_image(img, point1, point2):\n",
    "    img_height = img.shape[0]\n",
    "    img_width = img.shape[1]\n",
    "    print(img_height, img_width, point1, point2)\n",
    "    if point1[1] > img_height:\n",
    "        raise Exception(\"Sub image outside of bounds\")\n",
    "    if point2[1] > img_height:\n",
    "        raise Exception(\"Sub image outside of bounds\")\n",
    "    if point1[0] > img_width:\n",
    "        raise Exception(\"Sub image outside of bounds\")\n",
    "    if point2[0] > img_width:\n",
    "        raise Exception(\"Sub image outside of bounds\")\n",
    "    if len(img.shape) == 2:\n",
    "        return img[point1[1]:point2[1], point1[0]:point2[0]]\n",
    "    elif len(img.shape) == 3:\n",
    "        return img[point1[1]:point2[1], point1[0]:point2[0],:]\n",
    "\n",
    "def tl_point(point, width, height):\n",
    "    return (point[0] - round(width/2.), point[1] - round(height/2.))\n",
    "\n",
    "def br_point(point, width, height):\n",
    "    return (point[0] - round(width/2.) + width, point[1] - round(height/2.) + height)\n",
    "\n",
    "def draw_rectangle(img, point1, point2, color, thickness):\n",
    "    tl = point1\n",
    "    tr = (point2[0], point1[1])\n",
    "    br = point2\n",
    "    bl = (point1[0], point2[1])\n",
    "    cv.line(img, tl, tr, color, thickness)\n",
    "    cv.line(img, tr, br, color, thickness)\n",
    "    cv.line(img, br, bl, color, thickness)\n",
    "    cv.line(img, bl, tl, color, thickness)"
   ]
  },
  {
   "cell_type": "markdown",
   "id": "0ef5f998",
   "metadata": {},
   "source": [
    "# Inputs"
   ]
  },
  {
   "cell_type": "code",
   "execution_count": null,
   "id": "fb2422a1",
   "metadata": {},
   "outputs": [],
   "source": [
    "subprocess.run([\"cp\", \"../img/image01.jpg\", \".\"])\n",
    "subprocess.run([\"cp\", \"../img/image02.jpg\", \".\"])\n",
    "subprocess.run([\"cp\", \"../img/image03.jpg\", \".\"])"
   ]
  },
  {
   "cell_type": "code",
   "execution_count": null,
   "id": "2d3eb67e",
   "metadata": {},
   "outputs": [],
   "source": [
    "img = cv.imread('image01.jpg')"
   ]
  },
  {
   "cell_type": "code",
   "execution_count": null,
   "id": "5a8e9578",
   "metadata": {},
   "outputs": [],
   "source": [
    "display_img(img)"
   ]
  },
  {
   "cell_type": "code",
   "execution_count": null,
   "id": "a95cd472",
   "metadata": {},
   "outputs": [],
   "source": [
    "WIDTH = 500\n",
    "HEIGHT = 500\n",
    "\n",
    "X_OFFSET = 50\n",
    "Y_OFFSET = 70"
   ]
  },
  {
   "cell_type": "code",
   "execution_count": null,
   "id": "c7e1de75",
   "metadata": {},
   "outputs": [],
   "source": [
    "center1 = (round(img.shape[1]/2), round(img.shape[0]/2))\n",
    "tl1 = tl_point(center1, WIDTH, HEIGHT)\n",
    "br1 = br_point(center1, WIDTH, HEIGHT)\n",
    "print('center 1', center1)\n",
    "print('TL 1', tl1)\n",
    "print('BR 1', br1)\n",
    "\n",
    "center2 = (center1[0] + X_OFFSET, center1[1] + Y_OFFSET)\n",
    "tl2 = tl_point(center2, WIDTH, HEIGHT)\n",
    "br2 = br_point(center2, WIDTH, HEIGHT)\n",
    "print('center 2', center2)\n",
    "print('TL 2', tl2)\n",
    "print('BR 2', br2)"
   ]
  },
  {
   "cell_type": "code",
   "execution_count": null,
   "id": "cbc70c88",
   "metadata": {},
   "outputs": [],
   "source": [
    "d_img = img.copy()"
   ]
  },
  {
   "cell_type": "code",
   "execution_count": null,
   "id": "5d34d80e",
   "metadata": {},
   "outputs": [],
   "source": [
    "draw_rectangle(d_img, tl1, br1, (255, 0, 0), 10)\n",
    "draw_rectangle(d_img, tl2, br2, (0, 0, 255), 10)"
   ]
  },
  {
   "cell_type": "code",
   "execution_count": null,
   "id": "2a5daed2",
   "metadata": {},
   "outputs": [],
   "source": [
    "display_img(d_img)"
   ]
  },
  {
   "cell_type": "code",
   "execution_count": null,
   "id": "7e145122",
   "metadata": {},
   "outputs": [],
   "source": [
    "img1 = sub_image(img, tl1, br1)\n",
    "display_img(img1)"
   ]
  },
  {
   "cell_type": "code",
   "execution_count": null,
   "id": "ff3efdd6",
   "metadata": {},
   "outputs": [],
   "source": [
    "img2 = sub_image(img, tl2, br2)\n",
    "display_img(img2)"
   ]
  },
  {
   "cell_type": "code",
   "execution_count": null,
   "id": "f9d4d98f",
   "metadata": {},
   "outputs": [],
   "source": []
  },
  {
   "cell_type": "markdown",
   "id": "4e327a1d",
   "metadata": {},
   "source": [
    "# Edge Detection"
   ]
  },
  {
   "cell_type": "code",
   "execution_count": null,
   "id": "6d10f77f",
   "metadata": {},
   "outputs": [],
   "source": [
    "gray = cv.cvtColor(img1, cv.COLOR_BGR2GRAY)\n",
    "edges = cv.Canny(img1, 100, 200)\n",
    "\n",
    "plt.subplot(121),display_img(img1)\n",
    "plt.title('Original Image'), plt.xticks([]), plt.yticks([])\n",
    "plt.subplot(122),display_img(edges)\n",
    "plt.title('Edge Image'), plt.xticks([]), plt.yticks([])"
   ]
  },
  {
   "cell_type": "markdown",
   "id": "896424aa",
   "metadata": {},
   "source": [
    "# Template Matching (cross correlation)"
   ]
  },
  {
   "cell_type": "code",
   "execution_count": null,
   "id": "bfdf3933",
   "metadata": {},
   "outputs": [],
   "source": [
    "def edges(img, n= 6):\n",
    "    gray = cv.cvtColor(img, cv.COLOR_BGR2GRAY)\n",
    "    kernel = np.ones((n, n),np.float32)/(n*n)\n",
    "    gray = cv.filter2D(gray,-1,kernel)\n",
    "    return cv.Canny(gray, 100, 200)"
   ]
  },
  {
   "cell_type": "code",
   "execution_count": null,
   "id": "452be4b7",
   "metadata": {},
   "outputs": [],
   "source": [
    "# img2"
   ]
  },
  {
   "cell_type": "code",
   "execution_count": null,
   "id": "9d7603f0",
   "metadata": {},
   "outputs": [],
   "source": [
    "# All the 6 methods for comparison in a list\n",
    "methods = ['cv.TM_CCOEFF', 'cv.TM_CCOEFF_NORMED', 'cv.TM_CCORR',\n",
    " 'cv.TM_CCORR_NORMED', 'cv.TM_SQDIFF', 'cv.TM_SQDIFF_NORMED']\n",
    " \n",
    "t_img = img1.copy()\n",
    "# img_a = edges(img1, n=6)\n",
    "img_a = cv.cvtColor(img1, cv.COLOR_BGR2GRAY)\n",
    "# img_b = edges(img2, n=6)\n",
    "img_b = cv.cvtColor(img2, cv.COLOR_BGR2GRAY)\n",
    "draw_rectangle(t_img, tl1, br1, (255, 0, 0), 10)\n",
    "\n",
    "print('TARGET:', center1)\n",
    "for meth in methods:\n",
    "    print(\"Method:\", meth)\n",
    "    method = eval(meth)\n",
    " \n",
    "    # Apply template Matching\n",
    "    res = cv.matchTemplate(img_a, img_b, method)\n",
    "    min_val, max_val, min_loc, max_loc = cv.minMaxLoc(res)\n",
    "    print(\"MAX\", max_val, max_loc)\n",
    "    draw_rectangle(\n",
    "        t_img,\n",
    "        (round(max_loc[0]-WIDTH/2), round(max_loc[1]-HEIGHT/2)),\n",
    "        (round(max_loc[0]+WIDTH/2), round(max_loc[1]+HEIGHT/2)),\n",
    "        (0, 255, 0), 10)\n",
    "    print(\"MIN\", min_val, min_loc)\n",
    "    draw_rectangle(\n",
    "        t_img,\n",
    "        (round(min_loc[0]-WIDTH/2), round(min_loc[1]-HEIGHT/2)),\n",
    "        (round(min_loc[0]+WIDTH/2), round(min_loc[1]+HEIGHT/2)),\n",
    "        (0, 0, 255), 10)\n",
    "#     display_img(res)\n",
    "#     print(\"MIN\")\n",
    "#     print(min_val)\n",
    "#     print(min_loc)\n",
    " \n",
    "#  # If the method is TM_SQDIFF or TM_SQDIFF_NORMED, take minimum\n",
    "#  if method in [cv.TM_SQDIFF, cv.TM_SQDIFF_NORMED]:\n",
    "#  top_left = min_loc\n",
    "#  else:\n",
    "#  top_left = max_loc\n",
    "#  bottom_right = (top_left[0] + w, top_left[1] + h)\n",
    " \n",
    "#  cv.rectangle(img,top_left, bottom_right, 255, 2)\n",
    " \n",
    "#  plt.subplot(121),plt.imshow(res,cmap = 'gray')\n",
    "#  plt.title('Matching Result'), plt.xticks([]), plt.yticks([])\n",
    "#  plt.subplot(122),plt.imshow(img,cmap = 'gray')\n",
    "#  plt.title('Detected Point'), plt.xticks([]), plt.yticks([])\n",
    "#  plt.suptitle(meth)\n",
    " \n",
    "#  plt.show()\n",
    "\n",
    "display_img(t_img)"
   ]
  },
  {
   "cell_type": "code",
   "execution_count": null,
   "id": "5d828a9e",
   "metadata": {},
   "outputs": [],
   "source": [
    "# display_img(img_b)"
   ]
  },
  {
   "cell_type": "markdown",
   "id": "194ea1e5",
   "metadata": {},
   "source": [
    "# SIFT"
   ]
  },
  {
   "cell_type": "code",
   "execution_count": null,
   "id": "b50b6e4d",
   "metadata": {},
   "outputs": [],
   "source": [
    "img_in = sub_image(cv.imread('image03.jpg'), (100, 100), (1000, 1000))\n",
    "# img_in = img2.copy()"
   ]
  },
  {
   "cell_type": "code",
   "execution_count": null,
   "id": "664b450b",
   "metadata": {},
   "outputs": [],
   "source": [
    "display_img(img_in)"
   ]
  },
  {
   "cell_type": "code",
   "execution_count": null,
   "id": "fd8ac2da",
   "metadata": {},
   "outputs": [],
   "source": [
    "sift = cv.SIFT_create()\n",
    "gray = cv.cvtColor(img_in, cv.COLOR_BGR2GRAY)\n",
    "# gray = edges(img3, n=3)\n",
    "kp = sift.detect(gray, None)\n",
    " \n",
    "t_img = img_in.copy()\n",
    "cv.drawKeypoints(img_in, kp, t_img)\n",
    " \n",
    "display_img(t_img)"
   ]
  },
  {
   "cell_type": "code",
   "execution_count": null,
   "id": "7563010d",
   "metadata": {},
   "outputs": [],
   "source": [
    "print(len(kp))"
   ]
  },
  {
   "cell_type": "code",
   "execution_count": null,
   "id": "1af6060a",
   "metadata": {},
   "outputs": [],
   "source": [
    "idx = 0 \n",
    "for p in kp:\n",
    "    idx += 1\n",
    "    if idx > 10:\n",
    "        break\n",
    "    print(\"===================================================\")\n",
    "    print(\"point\", p.pt, \"angle\", p.angle)\n",
    "    print(\"octave\", p.octave, \"class\", p.class_id, \"response\", p.response, \"size\", p.size)"
   ]
  },
  {
   "cell_type": "code",
   "execution_count": null,
   "id": "8df8762c",
   "metadata": {},
   "outputs": [],
   "source": []
  },
  {
   "cell_type": "code",
   "execution_count": null,
   "id": "186ae26d",
   "metadata": {},
   "outputs": [],
   "source": []
  },
  {
   "cell_type": "code",
   "execution_count": null,
   "id": "077bd11a",
   "metadata": {},
   "outputs": [],
   "source": []
  },
  {
   "cell_type": "code",
   "execution_count": null,
   "id": "dd2f5493",
   "metadata": {},
   "outputs": [],
   "source": []
  },
  {
   "cell_type": "markdown",
   "id": "ad4d842f",
   "metadata": {},
   "source": [
    "# ORB"
   ]
  },
  {
   "cell_type": "code",
   "execution_count": null,
   "id": "79c97674",
   "metadata": {},
   "outputs": [],
   "source": [
    "orb = cv.ORB_create()\n",
    "\n",
    "gray = cv.cvtColor(img3, cv.COLOR_BGR2GRAY)\n",
    "# gray = edges(img3, n=4)\n",
    "\n",
    "kp, des = orb.compute(img3, None)\n",
    " \n",
    "t_img = img3.copy()\n",
    "cv.drawKeypoints(t_img, kp, t_img)\n",
    " \n",
    "display_img(t_img)"
   ]
  },
  {
   "cell_type": "code",
   "execution_count": null,
   "id": "2b46af8e",
   "metadata": {},
   "outputs": [],
   "source": [
    "print(len(kp))"
   ]
  },
  {
   "cell_type": "code",
   "execution_count": null,
   "id": "6eb08936",
   "metadata": {},
   "outputs": [],
   "source": [
    "\n",
    "# # Initiate ORB detector\n",
    "# orb = cv.ORB_create()\n",
    " \n",
    "# # find the keypoints with ORB\n",
    "# kp = orb.detect(img,None)\n",
    " \n",
    "# # compute the descriptors with ORB\n",
    "# kp, des = orb.compute(img, kp)\n",
    " \n",
    "# # draw only keypoints location,not size and orientation\n",
    "# img2 = cv.drawKeypoints(img, kp, None, color=(0,255,0), flags=0)\n",
    "# plt.imshow(img2), plt.show()"
   ]
  },
  {
   "cell_type": "code",
   "execution_count": null,
   "id": "8813fc2c",
   "metadata": {},
   "outputs": [],
   "source": []
  },
  {
   "cell_type": "code",
   "execution_count": null,
   "id": "54d06db2",
   "metadata": {},
   "outputs": [],
   "source": []
  },
  {
   "cell_type": "code",
   "execution_count": null,
   "id": "de8f6240",
   "metadata": {},
   "outputs": [],
   "source": []
  },
  {
   "cell_type": "code",
   "execution_count": null,
   "id": "b0b1923b",
   "metadata": {},
   "outputs": [],
   "source": [
    "# display_img(img)"
   ]
  },
  {
   "cell_type": "code",
   "execution_count": null,
   "id": "d04a7d43",
   "metadata": {},
   "outputs": [],
   "source": [
    "# display_img(img2)"
   ]
  },
  {
   "cell_type": "code",
   "execution_count": null,
   "id": "bbd0b78c",
   "metadata": {},
   "outputs": [],
   "source": []
  },
  {
   "cell_type": "code",
   "execution_count": null,
   "id": "e62737cf",
   "metadata": {},
   "outputs": [],
   "source": []
  }
 ],
 "metadata": {
  "kernelspec": {
   "display_name": "Python 3 (ipykernel)",
   "language": "python",
   "name": "python3"
  },
  "language_info": {
   "codemirror_mode": {
    "name": "ipython",
    "version": 3
   },
   "file_extension": ".py",
   "mimetype": "text/x-python",
   "name": "python",
   "nbconvert_exporter": "python",
   "pygments_lexer": "ipython3",
   "version": "3.11.2"
  }
 },
 "nbformat": 4,
 "nbformat_minor": 5
}
